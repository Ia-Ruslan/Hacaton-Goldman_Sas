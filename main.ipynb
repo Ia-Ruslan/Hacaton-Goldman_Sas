{
 "cells": [
  {
   "cell_type": "code",
   "execution_count": 362,
   "id": "72a56725-796b-4595-a336-e1225294e30c",
   "metadata": {},
   "outputs": [],
   "source": [
    "import numpy as np\n",
    "from sklearn.ensemble import RandomForestClassifier\n",
    "from sklearn.datasets import make_classification\n",
    "from sklearn.model_selection import train_test_split\n",
    "from numpy.random import default_rng\n",
    "import pandas as pd\n",
    "import random\n",
    "questions = pd.read_csv(\"questions.csv\", sep =\";\")"
   ]
  },
  {
   "cell_type": "code",
   "execution_count": 363,
   "id": "56394263-4202-4089-a1f9-47e3724b2298",
   "metadata": {},
   "outputs": [
    {
     "data": {
      "text/html": [
       "<div>\n",
       "<style scoped>\n",
       "    .dataframe tbody tr th:only-of-type {\n",
       "        vertical-align: middle;\n",
       "    }\n",
       "\n",
       "    .dataframe tbody tr th {\n",
       "        vertical-align: top;\n",
       "    }\n",
       "\n",
       "    .dataframe thead th {\n",
       "        text-align: right;\n",
       "    }\n",
       "</style>\n",
       "<table border=\"1\" class=\"dataframe\">\n",
       "  <thead>\n",
       "    <tr style=\"text-align: right;\">\n",
       "      <th></th>\n",
       "      <th>1</th>\n",
       "      <th>2</th>\n",
       "    </tr>\n",
       "  </thead>\n",
       "  <tbody>\n",
       "    <tr>\n",
       "      <th>0</th>\n",
       "      <td>Доход здесь и сейчас</td>\n",
       "      <td>Принести пользу обществу</td>\n",
       "    </tr>\n",
       "    <tr>\n",
       "      <th>1</th>\n",
       "      <td>Бизнес как семейное дело</td>\n",
       "      <td>Бизнес как развлечение</td>\n",
       "    </tr>\n",
       "    <tr>\n",
       "      <th>2</th>\n",
       "      <td>Доминирование на рынке</td>\n",
       "      <td>Получение прибыли</td>\n",
       "    </tr>\n",
       "    <tr>\n",
       "      <th>3</th>\n",
       "      <td>Доход без рисков, простота в бизнесе</td>\n",
       "      <td>Задать тренд, изменить индустрию</td>\n",
       "    </tr>\n",
       "    <tr>\n",
       "      <th>4</th>\n",
       "      <td>Преодоление препятствий на пути к бизнесу</td>\n",
       "      <td>Удовольствие от управления бизнесом</td>\n",
       "    </tr>\n",
       "  </tbody>\n",
       "</table>\n",
       "</div>"
      ],
      "text/plain": [
       "                                           1  \\\n",
       "0                       Доход здесь и сейчас   \n",
       "1                   Бизнес как семейное дело   \n",
       "2                     Доминирование на рынке   \n",
       "3       Доход без рисков, простота в бизнесе   \n",
       "4  Преодоление препятствий на пути к бизнесу   \n",
       "\n",
       "                                      2  \n",
       "0              Принести пользу обществу  \n",
       "1                Бизнес как развлечение  \n",
       "2                     Получение прибыли  \n",
       "3      Задать тренд, изменить индустрию  \n",
       "4   Удовольствие от управления бизнесом  "
      ]
     },
     "execution_count": 363,
     "metadata": {},
     "output_type": "execute_result"
    }
   ],
   "source": [
    "questions.head() #файл с вопросами"
   ]
  },
  {
   "cell_type": "code",
   "execution_count": 364,
   "id": "87210834-bca4-43ac-9df1-2888c37ce0d5",
   "metadata": {},
   "outputs": [],
   "source": [
    "from numpy.random import default_rng\n",
    "rng = default_rng()"
   ]
  },
  {
   "cell_type": "markdown",
   "id": "f741d6a9-011f-493e-9237-0d7b40a37ca3",
   "metadata": {},
   "source": [
    "Создание объектов для обучения:\n",
    "[номера вопросов, ответы на них][взял ли кредит(0 или 1)] или [номера вопросов, нули(пропустил опросник), ответы, нули][0]\n",
    "\n"
   ]
  },
  {
   "cell_type": "code",
   "execution_count": 1524,
   "id": "350859fd-7182-480a-9e36-24114bfa8812",
   "metadata": {},
   "outputs": [],
   "source": [
    "X = np.array([np.concatenate((np.array(rng.choice(30, size= 7-i, replace= False))+1,\n",
    "                                   np.zeros(i,dtype = int), \n",
    "                                   np.array(rng.choice(2, size = 6-i))+1,\n",
    "                                      np.zeros(i,dtype = int),\n",
    "                                   np.array([np.random.randint(2) + 1 if i == 0 else 0]),\n",
    "                                    np.array([np.random.randint(2) if i ==0 else 0])))\n",
    "                                   for i in rng.choice(7, 100000, p=[0.7,0.05 ,0.05, 0.05, 0.05, 0.05,0.05])]) #100к объектов, 30% бросили анкету\n"
   ]
  },
  {
   "cell_type": "code",
   "execution_count": 1525,
   "id": "031c6595-7961-4f4b-b2da-a899d35a1bf8",
   "metadata": {},
   "outputs": [],
   "source": [
    "X_, y_ = np.hsplit(X,[14])[0], np.hsplit(X,[14])[1].T\n",
    "y_ = y_[0][X_[:,13] != 0]\n",
    "X_ = X_[X_[:,13] != 0] #выбор прошедших анкету до конца для использования в обучении\n",
    "X_train, X_test, y_train, y_test = train_test_split(X_, y_, test_size=0.2, random_state=40)"
   ]
  },
  {
   "cell_type": "markdown",
   "id": "a2b981b3-890e-4c80-b311-499e5db8ddca",
   "metadata": {},
   "source": [
    "Модель размера 100000х14 ."
   ]
  },
  {
   "cell_type": "code",
   "execution_count": 1533,
   "id": "6b61aab6-c6e5-44da-93ee-ee48135a6b0e",
   "metadata": {},
   "outputs": [],
   "source": [
    "model = RandomForestClassifier(n_estimators = 4, max_depth = 8, random_state=1).fit(X_train,y_train)\n",
    "prob = model.predict_proba(X_test)\n",
    "#рассчет вероятности получить кредит на тестовой выборке"
   ]
  },
  {
   "cell_type": "code",
   "execution_count": 1534,
   "id": "030e9f07-6466-4f9c-a55b-fcd9c848fa81",
   "metadata": {},
   "outputs": [],
   "source": [
    "probs = np.hstack((X_test, np.reshape(prob[:,1], (-1, 1))))"
   ]
  },
  {
   "cell_type": "markdown",
   "id": "f0e3bc7e-e93d-46f5-a20f-4f30930842d8",
   "metadata": {},
   "source": [
    "Учет штрафов от не доделанных анкет"
   ]
  },
  {
   "cell_type": "code",
   "execution_count": 1535,
   "id": "0937b01f-53f8-43c6-bdcd-562de120cce5",
   "metadata": {},
   "outputs": [],
   "source": [
    "X_, y_ = np.hsplit(X,[14])[0], np.hsplit(X,[14])[1].T\n",
    "drops = X_[X_[:,13] == 0]\n",
    "for i in range(1,8):\n",
    "\n",
    "    idx = np.where(drops[:,13-i] != 0)[0]\n",
    "    for j in drops[idx]:\n",
    "        probind1 = np.where(np.all(probs[:,7:13-i+1] == j[7:13-i+1],axis = 1))[0]\n",
    "        probind2 = np.where(np.all(probs[probind1,:6 -i + 1] == j[:6-i+1],axis = 1))[0]\n",
    "        for k in probind2:\n",
    "            probs[k,14] = probs[k,14] * 0.95\n",
    "    drops = np.delete(drops,idx,0)"
   ]
  },
  {
   "cell_type": "markdown",
   "id": "909fe8ad-599e-43ec-b083-a744d42527a4",
   "metadata": {},
   "source": [
    "Код работающий во время прохождения анкеты"
   ]
  },
  {
   "cell_type": "code",
   "execution_count": 1537,
   "id": "5197c884-f637-4639-a0e1-94be38eb1afd",
   "metadata": {
    "scrolled": true
   },
   "outputs": [
    {
     "name": "stdout",
     "output_type": "stream",
     "text": [
      "0.5044415498091349\n"
     ]
    }
   ],
   "source": [
    "skip = False #индикатор того что вышли из опросника\n",
    "obj = np.array([0,0,0,0,0,0,0,0,0,0,0,0,0,0]) #рассматриваемый объект анкета\n",
    "que = set(range(1,31)) #для избежания повтора вопросов\n",
    "for i in range(1,8):\n",
    "    #поиск похожих объектов в имеющейся базе\n",
    "    if i == 1:\n",
    "        samples = np.array([probs[probs[:,14].argsort()[::-1]][0]])\n",
    "    else:\n",
    "        samples = probs[np.all(probs[:,7:7+i-1] == obj[7:7+i-1],axis = 1)]\n",
    "        samples = samples[np.all(samples[:,:i-1] == obj[:i-1],axis = 1)]\n",
    "    \n",
    "    if samples.size == 0:\n",
    "        obj[i - 1] = np.random.choice(list(que)) #если таких еще не было то выдается рандомный вопрос\n",
    "    else:\n",
    "        obj[i - 1] = samples[samples[:,14].argsort()[::-1]][0,i-1] # выдается вопрос с предположительно наивышей вероятностью сподвигнуть взять кредит\n",
    "\n",
    "    que.remove(obj[i - 1])\n",
    "    \n",
    "    obj[6+i] = np.random.choice(np.arange(0, 3), p=[0.05, 0.475, 0.475])#просто генерируется ответ или пропуск опросника\n",
    "    if obj[6+i] == 0:\n",
    "        skip = True\n",
    "        \n",
    "    if skip:\n",
    "        if i == 1:\n",
    "            ind = np.where(probs[:,0] == obj[0])[0]\n",
    "        else:\n",
    "            sampind = np.where(np.all(probs[:,7:7+i-1] == obj[7:7+i-1],axis = 1))[0]\n",
    "            ind = np.where(np.all(probs[sampind,:i-1] == obj[:i-1],axis = 1))[0]\n",
    "        for j in ind:\n",
    "            probs[j,14] = probs[j,14]*0.95 #если анкету не прошли то штрафуем похожие последовательности вопросов\n",
    "        break\n",
    "\n",
    "if obj[-1] != 0:\n",
    "    print(model.predict_proba([obj])[0][1]) #если опрос пройден до конца то можем посмотреть вероятность выдать креди        "
   ]
  },
  {
   "cell_type": "code",
   "execution_count": null,
   "id": "9433f40a-fd74-4137-85c8-666b3e295ee5",
   "metadata": {},
   "outputs": [],
   "source": []
  }
 ],
 "metadata": {
  "kernelspec": {
   "display_name": "Python 3 (ipykernel)",
   "language": "python",
   "name": "python3"
  },
  "language_info": {
   "codemirror_mode": {
    "name": "ipython",
    "version": 3
   },
   "file_extension": ".py",
   "mimetype": "text/x-python",
   "name": "python",
   "nbconvert_exporter": "python",
   "pygments_lexer": "ipython3",
   "version": "3.12.0"
  }
 },
 "nbformat": 4,
 "nbformat_minor": 5
}
