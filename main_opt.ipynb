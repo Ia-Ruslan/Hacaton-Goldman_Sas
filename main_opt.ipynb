{
 "cells": [
  {
   "cell_type": "code",
   "execution_count": 203,
   "id": "72a56725-796b-4595-a336-e1225294e30c",
   "metadata": {},
   "outputs": [],
   "source": [
    "import numpy as np\n",
    "from sklearn.ensemble import RandomForestClassifier\n",
    "from sklearn.datasets import make_classification\n",
    "from numpy.random import default_rng\n"
   ]
  },
  {
   "cell_type": "code",
   "execution_count": 204,
   "id": "87210834-bca4-43ac-9df1-2888c37ce0d5",
   "metadata": {},
   "outputs": [],
   "source": [
    "from numpy.random import default_rng\n",
    "rng = default_rng()"
   ]
  },
  {
   "cell_type": "markdown",
   "id": "f741d6a9-011f-493e-9237-0d7b40a37ca3",
   "metadata": {},
   "source": [
    "Создание объектов:\n",
    "[номера вопросов, ответы на них][взял ли кредит(0 или 1)] или [номера вопросов, нули(пропустил опросник), ответы, нули][0]\n",
    "\n"
   ]
  },
  {
   "cell_type": "code",
   "execution_count": 205,
   "id": "350859fd-7182-480a-9e36-24114bfa8812",
   "metadata": {},
   "outputs": [],
   "source": [
    "X_rand = np.array([np.concatenate((np.array(rng.choice(30, size= 6-i, replace=True))+1,\n",
    "                                   np.zeros(i,dtype = int), \n",
    "                                   np.array(rng.choice(2, size = 6-i))+1,\n",
    "                                      np.zeros(i,dtype = int),\n",
    "                                   np.array([np.random.randint(2) + 1 if i == 0 else 0]),\n",
    "                                    np.array([np.random.randint(2) if i ==0 else 0])))\n",
    "                                   for i in rng.choice(7, 500, p=[0.4,0.1,0.1, 0.1, 0.1, 0.1,0.1])])\n",
    "\n",
    "# Предобработка данных\n",
    "\n",
    "X_need, y_need = np.hsplit(X_rand,[13])[0], np.hsplit(X_rand,[13])[1].T\n",
    "y_need = y_need[0][X_need[:,12] != 0]\n",
    "X_need = X_need[X_need[:,12] != 0]\n",
    "\n",
    "\n",
    "X = X_need\n",
    "y = y_need\n"
   ]
  },
  {
   "cell_type": "code",
   "execution_count": 206,
   "id": "a560850b",
   "metadata": {},
   "outputs": [],
   "source": [
    "from sklearn.model_selection import train_test_split\n",
    "\n",
    "X_train, X_test, y_train, y_test = train_test_split(X_need, y_need, test_size=0.2, random_state=40)\n"
   ]
  },
  {
   "cell_type": "code",
   "execution_count": 207,
   "id": "781f9562",
   "metadata": {},
   "outputs": [
    {
     "data": {
      "text/plain": [
       "((164, 13), (164,))"
      ]
     },
     "execution_count": 207,
     "metadata": {},
     "output_type": "execute_result"
    }
   ],
   "source": [
    "X_train.shape, y_train.shape"
   ]
  },
  {
   "cell_type": "code",
   "execution_count": 208,
   "id": "ad632b5c",
   "metadata": {},
   "outputs": [
    {
     "data": {
      "text/plain": [
       "((41, 13), (41,))"
      ]
     },
     "execution_count": 208,
     "metadata": {},
     "output_type": "execute_result"
    }
   ],
   "source": [
    "X_test.shape, y_test.shape"
   ]
  },
  {
   "cell_type": "code",
   "execution_count": 209,
   "id": "f6808a2e",
   "metadata": {},
   "outputs": [
    {
     "data": {
      "text/plain": [
       "((205, 13), (205,))"
      ]
     },
     "execution_count": 209,
     "metadata": {},
     "output_type": "execute_result"
    }
   ],
   "source": [
    "X.shape, y.shape"
   ]
  },
  {
   "cell_type": "code",
   "execution_count": 210,
   "id": "8badfde7",
   "metadata": {},
   "outputs": [],
   "source": [
    "#y_true.shape"
   ]
  },
  {
   "cell_type": "markdown",
   "id": "151eefef",
   "metadata": {},
   "source": [
    "Моиск оптимальных гиперпараметров: max_depth, n_estimators (Можно закинуть выше - перед модификацией RandomForestClassifier)"
   ]
  },
  {
   "cell_type": "code",
   "execution_count": 214,
   "id": "8d6f569f",
   "metadata": {},
   "outputs": [
    {
     "name": "stdout",
     "output_type": "stream",
     "text": [
      "max Accuracy =  0.5609756097560976 opt estim number = 7 opt depth number = 8\n"
     ]
    }
   ],
   "source": [
    "# ищем лучшие max_depth, n_estimators через максимизацию accuracy\n",
    "from sklearn.metrics import accuracy_score\n",
    "\n",
    "maxsum = 0\n",
    "est_opt = 0\n",
    "depth_opt = 0\n",
    "\n",
    "for i in range(1,10):\n",
    "    for k in range(5,100):\n",
    "        regr = RandomForestClassifier(max_depth=i, n_estimators=k, random_state=1)\n",
    "        regr.fit(X_train,y_train)\n",
    "        #y_predict = regr.predict_proba(X_test)\n",
    "    \n",
    "        #y_pred\n",
    "\n",
    "        acc = regr.score(X_test,y_test)\n",
    "    \n",
    "        #print(\"max_depth = \", i,\" n_estimators = \",  \"Accuracy = \", acc)\n",
    "    \n",
    "        if (maxsum < acc):\n",
    "            maxsum = acc\n",
    "            est_opt = k\n",
    "            depth_opt = i\n",
    "            \n",
    "print('max Accuracy = ', maxsum,'opt estim number =', est_opt, 'opt depth number =', depth_opt)\n"
   ]
  },
  {
   "cell_type": "code",
   "execution_count": 215,
   "id": "ec2529fb",
   "metadata": {},
   "outputs": [
    {
     "data": {
      "text/plain": [
       "0.5609756097560976"
      ]
     },
     "execution_count": 215,
     "metadata": {},
     "output_type": "execute_result"
    }
   ],
   "source": [
    "#max_depth = None\n",
    "from sklearn.metrics import accuracy_score\n",
    "\n",
    "model = RandomForestClassifier(max_depth = depth_opt, n_estimators = est_opt, random_state=1).fit(X_train,y_train)\n",
    "prob = model.predict_proba(X_test)\n",
    "predd = model.predict(X_test)\n",
    "\n",
    "model.score(X_test,y_test) \n",
    "\n",
    "#model.estimators_"
   ]
  },
  {
   "cell_type": "markdown",
   "id": "6b5d50a0",
   "metadata": {},
   "source": [
    "Модифицируем RandomForestClassifier"
   ]
  },
  {
   "cell_type": "code",
   "execution_count": 216,
   "id": "b2542f0c",
   "metadata": {},
   "outputs": [
    {
     "data": {
      "text/plain": [
       "array([[0.        , 0.6097561 ],\n",
       "       [1.        , 0.46341463],\n",
       "       [2.        , 0.3902439 ],\n",
       "       [3.        , 0.3902439 ],\n",
       "       [4.        , 0.51219512],\n",
       "       [5.        , 0.53658537],\n",
       "       [6.        , 0.51219512]])"
      ]
     },
     "execution_count": 216,
     "metadata": {},
     "output_type": "execute_result"
    }
   ],
   "source": [
    "#Запишем массив деревьев и их личное accuracy\n",
    "\n",
    "model_accs=[] #list of score accuraces\n",
    "\n",
    "for idx, tree in enumerate(model.estimators_):\n",
    "    score = tree.score(X_test, y_test)\n",
    "    model_accs.append([idx,score])\n",
    "model_accs = np.array(model_accs)\n",
    "model_accs"
   ]
  },
  {
   "cell_type": "code",
   "execution_count": 217,
   "id": "707da562",
   "metadata": {},
   "outputs": [
    {
     "data": {
      "text/plain": [
       "array([0, 5, 6, 4, 1, 3, 2])"
      ]
     },
     "execution_count": 217,
     "metadata": {},
     "output_type": "execute_result"
    }
   ],
   "source": [
    "#сортируем 2 столбец - индексы деревьев с accuracy в порядке убывания\n",
    "\n",
    "model_ids = np.argsort(model_accs[:, 1])[::-1]\n",
    "model_ids"
   ]
  },
  {
   "cell_type": "code",
   "execution_count": 220,
   "id": "e13fd4b9",
   "metadata": {},
   "outputs": [],
   "source": [
    "# создаем массив деревьев на основе model_ids\n",
    "model.estimators_ = np.array(model.estimators_)[model_ids].tolist()\n"
   ]
  },
  {
   "cell_type": "code",
   "execution_count": 226,
   "id": "4cc7083d",
   "metadata": {},
   "outputs": [
    {
     "data": {
      "text/plain": [
       "[[2, 0.5365853658536586],\n",
       " [3, 0.4878048780487805],\n",
       " [4, 0.5609756097560976],\n",
       " [5, 0.5365853658536586],\n",
       " [6, 0.5365853658536586]]"
      ]
     },
     "execution_count": 226,
     "metadata": {},
     "output_type": "execute_result"
    }
   ],
   "source": [
    "#Теперь проверим, какое оптимальное k выбирать - посмотрим как работает дерево при n_estimators = 1, 2,...\n",
    "\n",
    "import copy\n",
    "\n",
    "result = []\n",
    "\n",
    "total_models = len(model.estimators_) \n",
    "\n",
    "k_opt = 0\n",
    "maxacc = 0\n",
    "\n",
    "for k in range(2, total_models):\n",
    "    \n",
    "    model_copy = copy.deepcopy(model)\n",
    "    \n",
    "    model_copy.estimators_ = model.estimators_[:k]\n",
    "    \n",
    "    score = model_copy.score(X_test, y_test)\n",
    "    result.append([k,score])\n",
    "    \n",
    "    if (maxacc < score):\n",
    "        maxacc = score\n",
    "        k_opt = k\n",
    "    \n",
    "result\n",
    "#print(k_opt)"
   ]
  },
  {
   "cell_type": "code",
   "execution_count": 227,
   "id": "6fcc2368",
   "metadata": {},
   "outputs": [
    {
     "data": {
      "image/png": "[encoded data removed]",
      "text/plain": [
       "<Figure size 432x288 with 1 Axes>"
      ]
     },
     "metadata": {
      "needs_background": "light"
     },
     "output_type": "display_data"
    }
   ],
   "source": [
    "# Ищем оптимальное число деревьев k с максимальной accuracy, на которых будет работать алгоритм\n",
    "# Строим график для наглядности\n",
    "\n",
    "import matplotlib.pyplot as plt\n",
    "\n",
    "x_grid = []\n",
    "y_grid = []\n",
    "\n",
    "for m in range(len(result)):\n",
    "    x_grid.append(result[m][0])\n",
    "    y_grid.append(result[m][1])\n",
    "\n",
    "plt.plot(x_grid, y_grid)\n",
    "plt.xlabel('k')\n",
    "plt.ylabel('Accuracy')\n",
    "plt.title('Accuracy of RFC with k best trees')\n",
    "plt.grid(True)\n",
    "plt.show()"
   ]
  },
  {
   "cell_type": "code",
   "execution_count": 228,
   "id": "c115d088",
   "metadata": {},
   "outputs": [
    {
     "data": {
      "text/plain": [
       "0.5609756097560976"
      ]
     },
     "execution_count": 228,
     "metadata": {},
     "output_type": "execute_result"
    }
   ],
   "source": [
    "small_model = copy.deepcopy(model)\n",
    "    \n",
    "small_model.estimators_ = model.estimators_[:k_opt]\n",
    "\n",
    "small_model.score(X_test, y_test)\n",
    "\n",
    "# Уменьшили число деревьев, увеличили число accuracy "
   ]
  },
  {
   "cell_type": "code",
   "execution_count": null,
   "id": "1aae0fcb",
   "metadata": {},
   "outputs": [],
   "source": []
  }
 ],
 "metadata": {
  "kernelspec": {
   "display_name": "Python 3",
   "language": "python",
   "name": "python3"
  },
  "language_info": {
   "codemirror_mode": {
    "name": "ipython",
    "version": 3
   },
   "file_extension": ".py",
   "mimetype": "text/x-python",
   "name": "python",
   "nbconvert_exporter": "python",
   "pygments_lexer": "ipython3",
   "version": "3.8.8"
  }
 },
 "nbformat": 4,
 "nbformat_minor": 5
}
